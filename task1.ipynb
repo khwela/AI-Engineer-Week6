{
 "cells": [
  {
   "cell_type": "code",
   "execution_count": null,
   "id": "92cc8a72",
   "metadata": {
    "vscode": {
     "languageId": "plaintext"
    }
   },
   "outputs": [],
   "source": [
    "import tensorflow as tf\n",
    "import tensorflow_datasets as tfds\n",
    "\n",
    "# Load CIFAR-10 dataset\n",
    "(ds_train, ds_test), ds_info = tfds.load(\n",
    "    'cifar10',\n",
    "    split=['train[:80%]', 'train[80%:]'],\n",
    "    shuffle_files=True,\n",
    "    as_supervised=True,\n",
    "    with_info=True\n",
    ")\n",
    "\n",
    "# Preprocessing\n",
    "def normalize_img(image, label):\n",
    "    return tf.cast(image, tf.float32) / 255.0, label\n",
    "\n",
    "BATCH_SIZE = 32\n",
    "\n",
    "ds_train = ds_train.map(normalize_img).batch(BATCH_SIZE).prefetch(1)\n",
    "ds_test = ds_test.map(normalize_img).batch(BATCH_SIZE).prefetch(1)\n"
   ]
  },
  {
   "cell_type": "code",
   "execution_count": null,
   "id": "ca6df497",
   "metadata": {
    "vscode": {
     "languageId": "plaintext"
    }
   },
   "outputs": [],
   "source": [
    "model = tf.keras.models.Sequential([\n",
    "    tf.keras.layers.Conv2D(16, 3, activation='relu', input_shape=(32, 32, 3)),\n",
    "    tf.keras.layers.MaxPooling2D(),\n",
    "    tf.keras.layers.Flatten(),\n",
    "    tf.keras.layers.Dense(32, activation='relu'),\n",
    "    tf.keras.layers.Dense(10, activation='softmax')\n",
    "])\n",
    "\n",
    "model.compile(\n",
    "    optimizer='adam',\n",
    "    loss='sparse_categorical_crossentropy',\n",
    "    metrics=['accuracy']\n",
    ")\n",
    "\n",
    "# Train model\n",
    "model.fit(ds_train, epochs=5, validation_data=ds_test)\n",
    "\n",
    "test_loss, test_acc = model.evaluate(ds_test)\n",
    "print(f\"Test Accuracy: {test_acc:.4f}\")\n",
    "\n",
    "\n",
    "converter = tf.lite.TFLiteConverter.from_keras_model(model)\n",
    "tflite_model = converter.convert()\n",
    "\n",
    "# Save the model\n",
    "with open('recycle_classifier.tflite', 'wb') as f:\n",
    "    f.write(tflite_model)\n"
   ]
  },
  {
   "cell_type": "markdown",
   "id": "fe5e11ff",
   "metadata": {},
   "source": [
    "Edge AI Prototype Report \n",
    "\n",
    "We trained a lightweight CNN model using the CIFAR-10 dataset (used as a proxy for recyclable items). The model achieved ~X% accuracy. We then converted it to a .tflite format using TensorFlow Lite, suitable for deployment on edge devices like a Raspberry Pi or mobile phone.\n",
    "\n",
    "Edge AI Benefits:\n",
    "\n",
    "Enables real-time processing without cloud latency.\n",
    "\n",
    "Reduces bandwidth and energy consumption.\n",
    "\n",
    "Operates in offline or low-connectivity environments (e.g., recycling bins in remote areas).\n",
    "\n",
    "Deployment Steps:\n",
    "\n",
    "Train and evaluate the model using TensorFlow.\n",
    "\n",
    "Convert the model to .tflite.\n",
    "\n",
    "Transfer the .tflite file to the edge device (e.g., Raspberry Pi).\n",
    "\n",
    "Use TensorFlow Lite Interpreter to run inference on images captured by a local camera."
   ]
  }
 ],
 "metadata": {
  "language_info": {
   "name": "python"
  }
 },
 "nbformat": 4,
 "nbformat_minor": 5
}
